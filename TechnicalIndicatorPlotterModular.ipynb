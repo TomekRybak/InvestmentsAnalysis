{
 "cells": [
  {
   "cell_type": "code",
   "execution_count": 193,
   "metadata": {},
   "outputs": [],
   "source": [
    "import yfinance as yf\n",
    "import matplotlib.pyplot as plt\n",
    "import pandas as pd\n",
    "import numpy as np\n",
    "import matplotlib.dates as mdates"
   ]
  },
  {
   "cell_type": "code",
   "execution_count": 194,
   "metadata": {},
   "outputs": [],
   "source": [
    "def fetch_data(ticker, start_date, end_date):\n",
    "    return yf.download(ticker, start=start_date, end=end_date)"
   ]
  },
  {
   "cell_type": "code",
   "execution_count": 195,
   "metadata": {},
   "outputs": [],
   "source": [
    "def calculate_ma(data, window=20):\n",
    "    data['MA'] = data['Close'].rolling(window=window).mean()\n",
    "    return data"
   ]
  },
  {
   "cell_type": "code",
   "execution_count": 196,
   "metadata": {},
   "outputs": [],
   "source": [
    "def calculate_ema(data, span=20):\n",
    "    data['EMA'] = data['Close'].ewm(span=span, adjust=False).mean()\n",
    "    return data"
   ]
  },
  {
   "cell_type": "code",
   "execution_count": 197,
   "metadata": {},
   "outputs": [],
   "source": [
    "def calculate_rsi(data, window=14):\n",
    "    delta = data['Close'].diff(1)\n",
    "    gain = delta.where(delta > 0, 0)\n",
    "    loss = -delta.where(delta < 0, 0)\n",
    "    avg_gain = gain.rolling(window=window).mean()\n",
    "    avg_loss = loss.rolling(window=window).mean()\n",
    "    rs = avg_gain / avg_loss\n",
    "    data['RSI'] = 100 - (100 / (1 + rs))\n",
    "    return data"
   ]
  },
  {
   "cell_type": "code",
   "execution_count": 198,
   "metadata": {},
   "outputs": [],
   "source": [
    "def calculate_macd(data, span_short=12, span_long=26, span_signal=9):\n",
    "    data['MACD'] = data['Close'].ewm(span=span_short, adjust=False).mean() - data['Close'].ewm(span=span_long, adjust=False).mean()\n",
    "    data['Signal Line'] = data['MACD'].ewm(span=span_signal, adjust=False).mean()\n",
    "    return data"
   ]
  },
  {
   "cell_type": "code",
   "execution_count": 199,
   "metadata": {},
   "outputs": [],
   "source": [
    "def calculate_bollinger_bands(data, window=20):\n",
    "    data['Rolling_STD'] = data['Close'].rolling(window=window).std()\n",
    "    data['Upper Band'] = data['MA'] + (2 * data['Rolling_STD'])\n",
    "    data['Lower Band'] = data['MA'] - (2 * data['Rolling_STD'])\n",
    "    return data"
   ]
  },
  {
   "cell_type": "code",
   "execution_count": 200,
   "metadata": {},
   "outputs": [],
   "source": [
    "def calculate_stochastic_oscillator(data, window=14):\n",
    "    low_min = data['Low'].rolling(window=window).min()\n",
    "    high_max = data['High'].rolling(window=window).max()\n",
    "    data['%K'] = (data['Close'] - low_min) * 100 / (high_max - low_min)\n",
    "    data['%D'] = data['%K'].rolling(window=3).mean()\n",
    "    return data"
   ]
  },
  {
   "cell_type": "code",
   "execution_count": 201,
   "metadata": {},
   "outputs": [],
   "source": [
    "def calculate_atr(data, window=14):\n",
    "    high_low = data['High'] - data['Low']\n",
    "    high_close = np.abs(data['High'] - data['Close'].shift(1))\n",
    "    low_close = np.abs(data['Low'] - data['Close'].shift(1))\n",
    "    tr = np.maximum(high_low, high_close)\n",
    "    tr = np.maximum(tr, low_close)\n",
    "    data['ATR'] = tr.rolling(window=window).mean()\n",
    "    return data"
   ]
  },
  {
   "cell_type": "code",
   "execution_count": 202,
   "metadata": {},
   "outputs": [],
   "source": [
    "# On-Balance Volume\n",
    "def calculate_obv(data):\n",
    "    obv = [0]  # Starting OBV value\n",
    "    for i in range(1, len(data)):\n",
    "        if data['Close'][i] > data['Close'][i - 1]:\n",
    "            obv.append(obv[-1] + data['Volume'][i])\n",
    "        elif data['Close'][i] < data['Close'][i - 1]:\n",
    "            obv.append(obv[-1] - data['Volume'][i])\n",
    "        else:\n",
    "            obv.append(obv[-1])\n",
    "    data['OBV'] = obv\n",
    "    return data"
   ]
  },
  {
   "cell_type": "code",
   "execution_count": 203,
   "metadata": {},
   "outputs": [],
   "source": [
    "def calculate_obv_guard(data):\n",
    "    obv = [0]  # Starting OBV value\n",
    "    for i in range(1, len(data)):\n",
    "        current_close = data['Close'].iloc[i]\n",
    "        previous_close = data['Close'].iloc[i - 1]\n",
    "        current_volume = data['Volume'].iloc[i]\n",
    "\n",
    "        if current_close > previous_close:\n",
    "            obv.append(obv[-1] + current_volume)\n",
    "        elif current_close < previous_close:\n",
    "            obv.append(obv[-1] - current_volume)\n",
    "        else:\n",
    "            obv.append(obv[-1])\n",
    "    data['OBV'] = pd.Series(obv, index=data.index)  # Ensure OBV aligns with the DataFrame index\n",
    "    return data"
   ]
  },
  {
   "cell_type": "code",
   "execution_count": 204,
   "metadata": {},
   "outputs": [],
   "source": [
    "def plot_indicators(data, ticker):\n",
    "    plt.figure(figsize=(14, 20))\n",
    "\n",
    "    # Plot Closing Price and Moving Averages\n",
    "    plt.subplot(8, 1, 1)\n",
    "    plt.plot(data['Close'], label='Close Price')\n",
    "    plt.plot(data['MA'], label='MA (20)')\n",
    "    plt.plot(data['EMA'], label='EMA (20)')\n",
    "    plt.title(f'{ticker} Stock Price and Moving Averages')\n",
    "    plt.legend()\n",
    "\n",
    "    # Plot RSI\n",
    "    plt.subplot(8, 1, 2)\n",
    "    plt.plot(data['RSI'], label='RSI (14)')\n",
    "    plt.axhline(y=70, color='r', linestyle='--')\n",
    "    plt.axhline(y=30, color='r', linestyle='--')\n",
    "    plt.title('RSI')\n",
    "    plt.legend()\n",
    "\n",
    "    # Plot MACD\n",
    "    plt.subplot(8, 1, 3)\n",
    "    plt.plot(data['MACD'], label='MACD (12, 26)')\n",
    "    plt.plot(data['Signal Line'], label='Signal Line (9)')\n",
    "    plt.title('MACD')\n",
    "    plt.legend()\n",
    "\n",
    "    # Plot Bollinger Bands\n",
    "    plt.subplot(8, 1, 4)\n",
    "    plt.plot(data['Close'], label='Close Price')\n",
    "    plt.plot(data['Upper Band'], label='Upper Band')\n",
    "    plt.plot(data['Lower Band'], label='Lower Band')\n",
    "    plt.title('Bollinger Bands')\n",
    "    plt.legend()\n",
    "\n",
    "    # Plot Stochastic Oscillator\n",
    "    plt.subplot(8, 1, 5)\n",
    "    plt.plot(data['%K'], label='%K')\n",
    "    plt.plot(data['%D'], label='%D')\n",
    "    plt.axhline(y=80, color='r', linestyle='--')\n",
    "    plt.axhline(y=20, color='r', linestyle='--')\n",
    "    plt.title('Stochastic Oscillator')\n",
    "    plt.legend()\n",
    "\n",
    "    # Plot ATR\n",
    "    plt.subplot(8, 1, 6)\n",
    "    plt.plot(data['ATR'], label='ATR (14)')\n",
    "    plt.title('Average True Range (ATR)')\n",
    "    plt.legend()\n",
    "\n",
    "    # Plot OBV\n",
    "    # plt.subplot(8, 1, 7)\n",
    "    # plt.plot(data['OBV'], label='OBV')\n",
    "    # plt.title('On-Balance Volume (OBV)')\n",
    "    # plt.legend()\n",
    "\n",
    "    # Plot Volume \n",
    "    plt.subplot(8, 1, 8) \n",
    "    # data['Volume'].plot(kind='bar', label='Volume', width=1.0) \n",
    "    # plt.bar(data.index, data['Volume'], label='Volume', width=1.0)\n",
    "    # normalized_volume = data['Volume'] / data['Volume'].max()\n",
    "    # plt.bar(x=mdates.date2num(data.index), height=data['Volume'].max(), data=normalized_volume, label='Volume')\n",
    "    # plt.title('Volume')\n",
    "    plt.plot(data['Volume'], label='Volume')\n",
    "    plt.title('Volume')\n",
    "    plt.legend()\n",
    "    \n",
    "    plt.tight_layout()\n",
    "    plt.show()"
   ]
  },
  {
   "cell_type": "code",
   "execution_count": 205,
   "metadata": {},
   "outputs": [],
   "source": [
    "# Main function to process multiple tickers\n",
    "def process_tickers(tickers, start_date, end_date):\n",
    "    for ticker in tickers:\n",
    "        data = fetch_data(ticker, start_date, end_date)\n",
    "        data = calculate_ma(data)\n",
    "        data = calculate_ema(data)\n",
    "        data = calculate_rsi(data)\n",
    "        data = calculate_macd(data)\n",
    "        data = calculate_bollinger_bands(data)\n",
    "        data = calculate_stochastic_oscillator(data)\n",
    "        data = calculate_atr(data)\n",
    "        # data = calculate_obv_guard(data)\n",
    "        plot_indicators(data, ticker)"
   ]
  },
  {
   "cell_type": "code",
   "execution_count": null,
   "metadata": {},
   "outputs": [],
   "source": [
    "# Example usage\n",
    "tickers = ['ROK','NVDA'] \n",
    "start_date = '2022-01-01'\n",
    "end_date = '2024-12-31'\n",
    "process_tickers(tickers, start_date, end_date)\n"
   ]
  }
 ],
 "metadata": {
  "kernelspec": {
   "display_name": "tks_learning_python_etc",
   "language": "python",
   "name": "python3"
  },
  "language_info": {
   "codemirror_mode": {
    "name": "ipython",
    "version": 3
   },
   "file_extension": ".py",
   "mimetype": "text/x-python",
   "name": "python",
   "nbconvert_exporter": "python",
   "pygments_lexer": "ipython3",
   "version": "3.13.1"
  }
 },
 "nbformat": 4,
 "nbformat_minor": 2
}
